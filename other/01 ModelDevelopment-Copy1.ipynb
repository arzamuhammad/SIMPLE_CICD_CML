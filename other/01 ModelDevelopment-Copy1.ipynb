{
 "cells": [
  {
   "cell_type": "markdown",
   "metadata": {},
   "source": [
    "# Model Development"
   ]
  },
  {
   "cell_type": "markdown",
   "metadata": {},
   "source": [
    "### Objective: create a Classifier to predict Marketing Interaction Outcomes\n",
    "\n",
    "- Train and validate initial model\n",
    "- Create SparkML Pipeline and save it to Object Store"
   ]
  },
  {
   "cell_type": "code",
   "execution_count": 1,
   "metadata": {},
   "outputs": [],
   "source": [
    "import matplotlib as mpl\n",
    "import os\n",
    "import matplotlib.pyplot as plt\n",
    "import seaborn as sns\n",
    "import numpy as np\n",
    "import pandas as pd\n",
    "from pyspark.ml.linalg import DenseVector\n",
    "import random\n",
    "import numpy as np\n",
    "from pyspark.sql import Row\n",
    "from sklearn import neighbors\n",
    "from pyspark.ml.feature import VectorAssembler\n",
    "from pyspark.mllib.stat import Statistics"
   ]
  },
  {
   "cell_type": "code",
   "execution_count": 2,
   "metadata": {},
   "outputs": [],
   "source": [
    "from pyspark.sql.types import IntegerType"
   ]
  },
  {
   "cell_type": "code",
   "execution_count": 3,
   "metadata": {},
   "outputs": [],
   "source": [
    "def vectorizerFunction(dataInput, TargetFieldName):\n",
    "    if(dataInput.select(TargetFieldName).distinct().count() != 2):\n",
    "        raise ValueError(\"Target field must have only 2 distinct classes\")\n",
    "    columnNames = list(dataInput.columns)\n",
    "    columnNames.remove(TargetFieldName)\n",
    "    dataInput = dataInput.select((','.join(columnNames)+','+TargetFieldName).split(','))\n",
    "    assembler=VectorAssembler(inputCols = columnNames, outputCol = 'features')\n",
    "    pos_vectorized = assembler.transform(dataInput)\n",
    "    vectorized = pos_vectorized.select('features',TargetFieldName).withColumn('label',pos_vectorized[TargetFieldName]).drop(TargetFieldName)\n",
    "    return vectorized"
   ]
  },
  {
   "cell_type": "code",
   "execution_count": 4,
   "metadata": {},
   "outputs": [],
   "source": [
    "def SmoteSampling(vectorized, k = 5, minorityClass = 1, majorityClass = 0, percentageOver = 200, percentageUnder = 100):\n",
    "    if(percentageUnder > 100|percentageUnder < 10):\n",
    "        raise ValueError(\"Percentage Under must be in range 10 - 100\");\n",
    "    if(percentageOver < 100):\n",
    "        raise ValueError(\"Percentage Over must be in at least 100\");\n",
    "    dataInput_min = vectorized[vectorized['label'] == minorityClass]\n",
    "    dataInput_maj = vectorized[vectorized['label'] == majorityClass]\n",
    "    feature = dataInput_min.select('features')\n",
    "    feature = feature.rdd\n",
    "    feature = feature.map(lambda x: x[0])\n",
    "    feature = feature.collect()\n",
    "    feature = np.asarray(feature)\n",
    "    nbrs = neighbors.NearestNeighbors(n_neighbors=k, algorithm='auto').fit(feature)\n",
    "    neighbours =  nbrs.kneighbors(feature)\n",
    "    gap = neighbours[0]\n",
    "    neighbours = neighbours[1]\n",
    "    min_rdd = dataInput_min.drop('label').rdd\n",
    "    pos_rddArray = min_rdd.map(lambda x : list(x))\n",
    "    pos_ListArray = pos_rddArray.collect()\n",
    "    min_Array = list(pos_ListArray)\n",
    "    newRows = []\n",
    "    nt = len(min_Array)\n",
    "    nexs = percentageOver//100\n",
    "    for i in range(nt):\n",
    "        for j in range(nexs):\n",
    "            neigh = random.randint(1,k)\n",
    "            difs = min_Array[neigh][0] - min_Array[i][0]\n",
    "            newRec = (min_Array[i][0]+random.random()*difs)\n",
    "            newRows.insert(0,(newRec))\n",
    "    newData_rdd = spark.sparkContext.parallelize(newRows)\n",
    "    newData_rdd_new = newData_rdd.map(lambda x: Row(features = x, label = 1))\n",
    "    new_data = newData_rdd_new.toDF()\n",
    "    new_data_minor = dataInput_min.unionAll(new_data)\n",
    "    new_data_major = dataInput_maj.sample(False, (float(percentageUnder)/float(100)))\n",
    "    return new_data_major.unionAll(new_data_minor)"
   ]
  },
  {
   "cell_type": "code",
   "execution_count": 5,
   "metadata": {},
   "outputs": [],
   "source": [
    "%load_ext autoreload\n",
    "%autoreload 2"
   ]
  },
  {
   "cell_type": "code",
   "execution_count": 6,
   "metadata": {},
   "outputs": [],
   "source": [
    "#os.environ[\"STORAGE\"]"
   ]
  },
  {
   "cell_type": "code",
   "execution_count": 7,
   "metadata": {},
   "outputs": [
    {
     "name": "stdout",
     "output_type": "stream",
     "text": [
      "Spark Version: 2.4.0.7.1.2.0-96\n"
     ]
    }
   ],
   "source": [
    "import os\n",
    "import sys\n",
    "from pyspark.sql import SparkSession\n",
    "\n",
    "spark = SparkSession\\\n",
    "    .builder\\\n",
    "    .appName(\"ModelDevelopment\")\\\n",
    "    .config(\"spark.authenticate\", \"true\")\\\n",
    "    .config(\"spark.yarn.access.hadoopFileSystems\", os.environ[\"STORAGE\"])\\\n",
    "    .config(\"spark.hadoop.yarn.resourcemanager.principal\",os.environ[\"HADOOP_USER_NAME\"])\\\n",
    "    .config(\"spark.executor.memory\",\"6g\")\\\n",
    "    .config(\"spark.executor.cores\",\"5\")\\\n",
    "    .getOrCreate()\n",
    "\n",
    "#.master(\"local[*]\")\\\n",
    "    \n",
    "# **Note:** \n",
    "# Our file isn't big, so running it in Spark local mode is fine but you can add the following config \n",
    "# if you want to run Spark on the kubernetes cluster \n",
    "# \n",
    "# > .config(\"spark.yarn.access.hadoopFileSystems\",os.getenv['STORAGE'])\\\n",
    "\n",
    "#.config(\"spark.authenticate\", \"true\") \\\n",
    "#    .config(\"spark.yarn.access.hadoopFileSystems\", os.environ['STORAGE'])\n",
    "\n",
    "print(\"Spark Version: {}\".format(spark.version))"
   ]
  },
  {
   "cell_type": "code",
   "execution_count": 8,
   "metadata": {},
   "outputs": [
    {
     "name": "stdout",
     "output_type": "stream",
     "text": [
      "+---------------+--------------------+----------------+--------+------------+--------------------+-------+-------+-------------+---------+---------+-----------+-------+---------------+----------+---------+--------------------+--------------------+\n",
      "|           NAME|      STREET_ADDRESS|            CITY|POSTCODE|PHONE_NUMBER|                 JOB|RECENCY|HISTORY|USED_DISCOUNT|USED_BOGO| ZIP_CODE|IS_REFERRAL|CHANNEL|          OFFER|CONVERSION|    SCORE|            BATCH_ID|           BATCH_TMS|\n",
      "+---------------+--------------------+----------------+--------+------------+--------------------+-------+-------+-------------+---------+---------+-----------+-------+---------------+----------+---------+--------------------+--------------------+\n",
      "|   George Hicks|80552 Washington ...|     North David|   15923|        null|Radiographer, the...|     10|    142|            1|        0|Surburban|          0|  Phone|Buy One Get One|         0|1.0767447|49f518cc-1651-11e...|2020-10-24 23:33:...|\n",
      "|   Megan Castro|  530 Sandra Village|       Greenview|   82395|        null|Forest/woodland m...|      6|    329|            1|        1|    Rural|          1|    Web|       No Offer|         0|1.7022533|49f518cc-1651-11e...|2020-10-24 23:33:...|\n",
      "| Tyler Williams|     5378 Jones Isle|     Snydermouth|   39434|        null| Geologist, wellsite|      7|    180|            0|        1|Surburban|          1|    Web|Buy One Get One|         0|1.2306087|49f518cc-1651-11e...|2020-10-24 23:33:...|\n",
      "|   Jamie Spence|   9225 Gilbert Ford|     Antonioview|   77514|        null|Learning disabili...|      9|    675|            1|        0|    Rural|          1|    Web|       Discount|         0|0.8435825|49f518cc-1651-11e...|2020-10-24 23:33:...|\n",
      "|  Brandy Obrien|48212 Hernandez C...|South Trevorside|   96147|        null|  Field seismologist|      2|     45|            1|        0|    Urban|          0|    Web|Buy One Get One|         0|1.0064013|49f518cc-1651-11e...|2020-10-24 23:33:...|\n",
      "| Joshua Jackson|8878 Jesus Villag...|      South Noah|   37003|        null|     Event organiser|      6|    134|            0|        1|Surburban|          0|  Phone|Buy One Get One|         1|2.7830002|49f518cc-1651-11e...|2020-10-24 23:33:...|\n",
      "|     Megan Odom|077 Richard Gatew...|     West Ashley|    9549|        null|Sound technician,...|      9|    280|            1|        0|Surburban|          1|  Phone|Buy One Get One|         0|1.4295379|49f518cc-1651-11e...|2020-10-24 23:33:...|\n",
      "|Kristen Serrano|8570 Higgins Lock...|       Sarahbury|   11590|        null|  Physicist, medical|      9|     46|            0|        1|    Urban|          0|  Phone|Buy One Get One|         0|1.1519685|49f518cc-1651-11e...|2020-10-24 23:33:...|\n",
      "|      Todd Webb| 48160 Gregory Trail|     Chavezshire|    7849|        null|      Air cabin crew|      9|    675|            1|        1|    Rural|          1|  Phone|       Discount|         0|1.1761556|49f518cc-1651-11e...|2020-10-24 23:33:...|\n",
      "|     Peggy Reed|    265 Daniel Plaza|    Carlachester|   28881|        null|    Therapist, music|     10|     32|            0|        1|    Urban|          1|    Web|Buy One Get One|         0|0.4603504|49f518cc-1651-11e...|2020-10-24 23:33:...|\n",
      "+---------------+--------------------+----------------+--------+------------+--------------------+-------+-------+-------------+---------+---------+-----------+-------+---------------+----------+---------+--------------------+--------------------+\n",
      "\n"
     ]
    }
   ],
   "source": [
    "#spark.sql(\"SELECT * FROM DEFAULT.CUSTOMER_INTERACTIONS_CICD LIMIT 10\").show()"
   ]
  },
  {
   "cell_type": "code",
   "execution_count": 9,
   "metadata": {},
   "outputs": [],
   "source": [
    "hist_DF = spark.sql(\"SELECT * FROM DEFAULT.CUSTOMER_INTERACTIONS_CICD\")"
   ]
  },
  {
   "cell_type": "code",
   "execution_count": 10,
   "metadata": {},
   "outputs": [],
   "source": [
    "hist_DF = spark.read.option(\"inferSchema\", \"true\").csv(\"data/df.csv\", header=\"True\")"
   ]
  },
  {
   "cell_type": "code",
   "execution_count": 11,
   "metadata": {},
   "outputs": [
    {
     "data": {
      "text/plain": [
       "[('recency', 'int'),\n",
       " ('history', 'double'),\n",
       " ('used_discount', 'int'),\n",
       " ('used_bogo', 'int'),\n",
       " ('zip_code', 'string'),\n",
       " ('is_referral', 'int'),\n",
       " ('channel', 'string'),\n",
       " ('offer', 'string'),\n",
       " ('conversion', 'int'),\n",
       " ('score', 'double')]"
      ]
     },
     "execution_count": 11,
     "metadata": {},
     "output_type": "execute_result"
    }
   ],
   "source": [
    "hist_DF.dtypes"
   ]
  },
  {
   "cell_type": "code",
   "execution_count": 12,
   "metadata": {},
   "outputs": [],
   "source": [
    "hist_DF = hist_DF.withColumn(\"history\", hist_DF[\"history\"].cast(IntegerType()))\n",
    "hist_DF = hist_DF.withColumn(\"score\", hist_DF[\"score\"].cast(IntegerType()))"
   ]
  },
  {
   "cell_type": "code",
   "execution_count": 13,
   "metadata": {},
   "outputs": [],
   "source": [
    "df = hist_DF.select(\"RECENCY\", \"HISTORY\", \"USED_DISCOUNT\", \"USED_BOGO\", \"ZIP_CODE\", \"IS_REFERRAL\", \"CHANNEL\", \"OFFER\", \"SCORE\", \"CONVERSION\")"
   ]
  },
  {
   "cell_type": "code",
   "execution_count": 14,
   "metadata": {},
   "outputs": [],
   "source": [
    "cat_cols = [item[0] for item in df.dtypes if item[1].startswith('string')]\n",
    "num_cols = [item[0] for item in df.dtypes if item[1].startswith('in')]"
   ]
  },
  {
   "cell_type": "code",
   "execution_count": 15,
   "metadata": {},
   "outputs": [],
   "source": [
    "#df = df.select(*num_cols)"
   ]
  },
  {
   "cell_type": "code",
   "execution_count": 16,
   "metadata": {},
   "outputs": [],
   "source": [
    "#Renaming target feature as \"LABEL\":\n",
    "#df = df.withColumnRenamed(\"CONVERSION\",\"label\")"
   ]
  },
  {
   "cell_type": "code",
   "execution_count": 17,
   "metadata": {},
   "outputs": [],
   "source": [
    "num_cols.remove('CONVERSION')"
   ]
  },
  {
   "cell_type": "code",
   "execution_count": 18,
   "metadata": {},
   "outputs": [
    {
     "name": "stdout",
     "output_type": "stream",
     "text": [
      "+----------+-----+\n",
      "|CONVERSION|count|\n",
      "+----------+-----+\n",
      "|         1| 9394|\n",
      "|         0|54606|\n",
      "+----------+-----+\n",
      "\n"
     ]
    }
   ],
   "source": [
    "df.groupby(\"CONVERSION\").count().show()"
   ]
  },
  {
   "cell_type": "markdown",
   "metadata": {},
   "source": [
    "#### Creating Pipeline\n",
    "##### Notice the pipeline does not include the classifier. This is done on purpose so we can split it into two CML jobs."
   ]
  },
  {
   "cell_type": "code",
   "execution_count": 19,
   "metadata": {},
   "outputs": [],
   "source": [
    "from pyspark.ml.tuning import ParamGridBuilder, TrainValidationSplit, CrossValidator\n",
    "from pyspark.ml.feature import OneHotEncoderEstimator, StringIndexer, VectorAssembler, StandardScaler\n",
    "from pyspark.ml import Pipeline\n",
    "from pyspark.ml.evaluation import BinaryClassificationEvaluator, MulticlassClassificationEvaluator"
   ]
  },
  {
   "cell_type": "code",
   "execution_count": 20,
   "metadata": {},
   "outputs": [],
   "source": [
    "def make_pipeline(df):        \n",
    "    stages= []\n",
    "\n",
    "    for col in cat_cols:\n",
    "\n",
    "        stringIndexer = StringIndexer(inputCol = col , outputCol = col + '_StringIndex')\n",
    "        encoder = OneHotEncoderEstimator(inputCols=[stringIndexer.getOutputCol()], outputCols=[col + '_ClassVect'])\n",
    "        stages += [stringIndexer, encoder]\n",
    "\n",
    "    #Assembling mixed data type transformations:\n",
    "    assemblerInputs = [c + \"_ClassVect\" for c in cat_cols] + num_cols\n",
    "    #assemblerInputs = num_cols\n",
    "    assembler = VectorAssembler(inputCols=assemblerInputs, outputCol=\"features\")\n",
    "\n",
    "    stages += [assembler]\n",
    "    \n",
    "    #Scaling features\n",
    "    scaler = StandardScaler(inputCol=\"features\", outputCol=\"scaledFeatures\", withStd=True, withMean=True)\n",
    "    stages += [scaler]\n",
    "\n",
    "    #Creating and running the pipeline:\n",
    "    pipeline = Pipeline(stages=stages)\n",
    "    pipelineModel = pipeline.fit(df)\n",
    "    out_df = pipelineModel.transform(df)\n",
    "    \n",
    "    return out_df, pipeline"
   ]
  },
  {
   "cell_type": "code",
   "execution_count": 21,
   "metadata": {},
   "outputs": [],
   "source": [
    "out_df, pipeline = make_pipeline(df)"
   ]
  },
  {
   "cell_type": "code",
   "execution_count": 22,
   "metadata": {},
   "outputs": [],
   "source": [
    "input_data = out_df.rdd.map(lambda x: (x[\"CONVERSION\"], DenseVector(x[\"scaledFeatures\"])))"
   ]
  },
  {
   "cell_type": "code",
   "execution_count": 23,
   "metadata": {},
   "outputs": [],
   "source": [
    "df_pre_smote = spark.createDataFrame(input_data, [\"CONVERSION\", \"scaledFeatures\"])"
   ]
  },
  {
   "cell_type": "code",
   "execution_count": 24,
   "metadata": {},
   "outputs": [
    {
     "data": {
      "text/plain": [
       "['CONVERSION', 'scaledFeatures']"
      ]
     },
     "execution_count": 24,
     "metadata": {},
     "output_type": "execute_result"
    }
   ],
   "source": [
    "df_pre_smote.columns"
   ]
  },
  {
   "cell_type": "code",
   "execution_count": 25,
   "metadata": {},
   "outputs": [],
   "source": [
    "df_smote = SmoteSampling(vectorizerFunction(df_pre_smote, \"CONVERSION\"), k = 3, minorityClass = 1, majorityClass = 0, percentageOver = 400, percentageUnder = 100)"
   ]
  },
  {
   "cell_type": "code",
   "execution_count": 26,
   "metadata": {},
   "outputs": [
    {
     "name": "stdout",
     "output_type": "stream",
     "text": [
      "+-----+-----+\n",
      "|label|count|\n",
      "+-----+-----+\n",
      "|    0|54606|\n",
      "|    1|46970|\n",
      "+-----+-----+\n",
      "\n"
     ]
    }
   ],
   "source": [
    "df_smote.groupby(\"label\").count().show()"
   ]
  },
  {
   "cell_type": "code",
   "execution_count": 27,
   "metadata": {},
   "outputs": [
    {
     "data": {
      "text/plain": [
       "['features', 'label']"
      ]
     },
     "execution_count": 27,
     "metadata": {},
     "output_type": "execute_result"
    }
   ],
   "source": [
    "df_smote.columns"
   ]
  },
  {
   "cell_type": "code",
   "execution_count": 28,
   "metadata": {},
   "outputs": [],
   "source": [
    "from pyspark.ml.classification import GBTClassifier"
   ]
  },
  {
   "cell_type": "code",
   "execution_count": 29,
   "metadata": {},
   "outputs": [],
   "source": [
    "train, test = df_smote.randomSplit([0.8, 0.2], seed=1)"
   ]
  },
  {
   "cell_type": "code",
   "execution_count": 30,
   "metadata": {},
   "outputs": [],
   "source": [
    "gbt = GBTClassifier()"
   ]
  },
  {
   "cell_type": "code",
   "execution_count": 31,
   "metadata": {},
   "outputs": [],
   "source": [
    "paramGrid = ParamGridBuilder() \\\n",
    "    .addGrid(gbt.maxIter, [3, 6]) \\\n",
    "    .addGrid(gbt.maxDepth, [2, 10]) \\\n",
    "    .build()"
   ]
  },
  {
   "cell_type": "code",
   "execution_count": 32,
   "metadata": {},
   "outputs": [],
   "source": [
    "crossval = CrossValidator(estimator=gbt,\n",
    "                          estimatorParamMaps=paramGrid,\n",
    "                          evaluator=MulticlassClassificationEvaluator(metricName=\"accuracy\"),\n",
    "                          numFolds=5)"
   ]
  },
  {
   "cell_type": "code",
   "execution_count": 33,
   "metadata": {},
   "outputs": [],
   "source": [
    "# Run cross-validation, and choose the best set of parameters.\n",
    "cvModel = crossval.fit(train)"
   ]
  },
  {
   "cell_type": "code",
   "execution_count": 34,
   "metadata": {},
   "outputs": [
    {
     "name": "stdout",
     "output_type": "stream",
     "text": [
      "[0.8793122983943864, 0.9416876662743083, 0.879324504680624, 0.9440791054819886]\n"
     ]
    }
   ],
   "source": [
    "print(cvModel.avgMetrics)"
   ]
  },
  {
   "cell_type": "code",
   "execution_count": 35,
   "metadata": {},
   "outputs": [
    {
     "name": "stdout",
     "output_type": "stream",
     "text": [
      "GBTClassificationModel (uid=GBTClassifier_729f6d596041) with 6 trees\n"
     ]
    }
   ],
   "source": [
    "bestModel = cvModel.bestModel\n",
    "print(bestModel)"
   ]
  },
  {
   "cell_type": "markdown",
   "metadata": {},
   "source": [
    "#### Test Set Evaluation"
   ]
  },
  {
   "cell_type": "code",
   "execution_count": 36,
   "metadata": {},
   "outputs": [],
   "source": [
    "#Evaluating model with the held out test set:\n",
    "prediction = cvModel.transform(test)"
   ]
  },
  {
   "cell_type": "code",
   "execution_count": 37,
   "metadata": {},
   "outputs": [],
   "source": [
    "predictionAndTarget = prediction.select(\"label\", \"prediction\")"
   ]
  },
  {
   "cell_type": "code",
   "execution_count": 38,
   "metadata": {},
   "outputs": [],
   "source": [
    "# Create both evaluators\n",
    "evaluatorMulti = MulticlassClassificationEvaluator(labelCol=\"label\", predictionCol=\"prediction\")\n",
    "evaluator = BinaryClassificationEvaluator(labelCol=\"label\", rawPredictionCol=\"prediction\", metricName='areaUnderROC')"
   ]
  },
  {
   "cell_type": "code",
   "execution_count": 39,
   "metadata": {},
   "outputs": [],
   "source": [
    "# Get metrics\n",
    "acc = evaluatorMulti.evaluate(predictionAndTarget, {evaluatorMulti.metricName: \"accuracy\"})\n",
    "f1 = evaluatorMulti.evaluate(predictionAndTarget, {evaluatorMulti.metricName: \"f1\"})\n",
    "weightedPrecision = evaluatorMulti.evaluate(predictionAndTarget, {evaluatorMulti.metricName: \"weightedPrecision\"})\n",
    "weightedRecall = evaluatorMulti.evaluate(predictionAndTarget, {evaluatorMulti.metricName: \"weightedRecall\"})\n",
    "auc = evaluator.evaluate(predictionAndTarget)"
   ]
  },
  {
   "cell_type": "code",
   "execution_count": 40,
   "metadata": {},
   "outputs": [],
   "source": [
    "y_true = np.array(predictionAndTarget.select(['label']).collect())\n",
    "y_pred = np.array(predictionAndTarget.select(['prediction']).collect())"
   ]
  },
  {
   "cell_type": "code",
   "execution_count": 41,
   "metadata": {},
   "outputs": [
    {
     "name": "stdout",
     "output_type": "stream",
     "text": [
      "              precision    recall  f1-score   support\n",
      "\n",
      "           0       0.91      0.99      0.95     10921\n",
      "           1       0.99      0.89      0.94      9330\n",
      "\n",
      "    accuracy                           0.94     20251\n",
      "   macro avg       0.95      0.94      0.94     20251\n",
      "weighted avg       0.95      0.94      0.94     20251\n",
      "\n"
     ]
    }
   ],
   "source": [
    "from sklearn.metrics import classification_report, confusion_matrix, plot_confusion_matrix, roc_curve\n",
    "cm = confusion_matrix(y_true, y_pred)\n",
    "print(classification_report(y_true, y_pred))"
   ]
  },
  {
   "cell_type": "code",
   "execution_count": 42,
   "metadata": {},
   "outputs": [],
   "source": [
    "from utils.cm import plot_conf_matrix"
   ]
  },
  {
   "cell_type": "code",
   "execution_count": 43,
   "metadata": {},
   "outputs": [
    {
     "data": {
      "image/png": "[encoded data removed]",
      "text/plain": [
       "<Figure size 360x216 with 1 Axes>"
      ]
     },
     "metadata": {
      "needs_background": "light"
     },
     "output_type": "display_data"
    }
   ],
   "source": [
    "plot_conf_matrix(pd.DataFrame(cm.T, columns=['neg', 'pos'], \n",
    "                       index=['pred_neg', 'pred_pos']))"
   ]
  },
  {
   "cell_type": "code",
   "execution_count": 44,
   "metadata": {},
   "outputs": [
    {
     "data": {
      "image/png": "[encoded data removed]",
      "text/plain": [
       "<Figure size 360x360 with 1 Axes>"
      ]
     },
     "metadata": {},
     "output_type": "display_data"
    }
   ],
   "source": [
    "from plot_metric.functions import BinaryClassification\n",
    "# Visualisation with plot_metric\n",
    "bc = BinaryClassification(y_true, y_pred, labels=[\"Class 1\", \"Class 2\"])\n",
    "\n",
    "# Figures\n",
    "plt.figure(figsize=(5,5))\n",
    "bc.plot_roc_curve()\n",
    "plt.show()"
   ]
  },
  {
   "cell_type": "code",
   "execution_count": 45,
   "metadata": {},
   "outputs": [],
   "source": [
    "#Printing metrics \n",
    "#print(acc)\n",
    "#print(f1)\n",
    "#print(weightedPrecision)\n",
    "#print(weightedRecall)\n",
    "#print(auc)"
   ]
  },
  {
   "cell_type": "markdown",
   "metadata": {},
   "source": [
    "#### Saving Pipeline and Logistic Regression Model to Object Store"
   ]
  },
  {
   "cell_type": "code",
   "execution_count": 46,
   "metadata": {},
   "outputs": [],
   "source": [
    "import datetime\n",
    "import os, time"
   ]
  },
  {
   "cell_type": "code",
   "execution_count": 47,
   "metadata": {},
   "outputs": [],
   "source": [
    "run_time_suffix = datetime.datetime.now()\n",
    "run_time_suffix_string = run_time_suffix.strftime(\"%d%m%Y%H%M%S\")"
   ]
  },
  {
   "cell_type": "code",
   "execution_count": 48,
   "metadata": {},
   "outputs": [],
   "source": [
    "bestModel.write().overwrite().save(os.environ[\"STORAGE\"]+\"/mypysparkmodels/\"+\"{}\".format(run_time_suffix_string))\n",
    "pipeline.write().overwrite().save(os.environ[\"STORAGE\"]+\"/mypysparkpipelines/\"+\"{}\".format(run_time_suffix_string))"
   ]
  },
  {
   "cell_type": "code",
   "execution_count": 49,
   "metadata": {},
   "outputs": [],
   "source": [
    "#print(\"s3a://demo-aws-1/datalake/pdefusco/bestLR_{}\".format(run_time_suffix))"
   ]
  },
  {
   "cell_type": "code",
   "execution_count": 50,
   "metadata": {},
   "outputs": [],
   "source": [
    "spark.stop()"
   ]
  },
  {
   "cell_type": "markdown",
   "metadata": {},
   "source": [
    "#### Loading Model and Pipeline Metadata into Sqlite3 table"
   ]
  },
  {
   "cell_type": "code",
   "execution_count": 51,
   "metadata": {},
   "outputs": [],
   "source": [
    "import sqlite3\n",
    "conn = sqlite3.connect('models.db')\n",
    "c = conn.cursor()"
   ]
  },
  {
   "cell_type": "code",
   "execution_count": 52,
   "metadata": {},
   "outputs": [],
   "source": [
    "import re\n",
    "models_insert = [(str(bestModel).split(\" \")[0], \n",
    "                 re.sub(\"uid=\", \"\", str(bestModel).split(\" \")[1]), \n",
    "                 str(run_time_suffix), \n",
    "                 os.environ[\"STORAGE\"]+\"/mypysparkmodels/\"+\"{}\".format(run_time_suffix))\n",
    "                ]"
   ]
  },
  {
   "cell_type": "code",
   "execution_count": 53,
   "metadata": {},
   "outputs": [],
   "source": [
    "pipelines_insert = [(str(pipeline).split(\"_\")[0], \n",
    "                 str(pipeline).split(\"_\")[1], \n",
    "                 str(run_time_suffix), \n",
    "                 os.environ[\"STORAGE\"]+\"/mypysparkpipelines/\"+\"{}\".format(run_time_suffix))\n",
    "                ]"
   ]
  },
  {
   "cell_type": "code",
   "execution_count": 54,
   "metadata": {},
   "outputs": [
    {
     "data": {
      "text/plain": [
       "<sqlite3.Cursor at 0x7f9244f51ce0>"
      ]
     },
     "execution_count": 54,
     "metadata": {},
     "output_type": "execute_result"
    }
   ],
   "source": [
    "c.executemany('INSERT INTO models VALUES (?,?,?,?)', models_insert)\n",
    "c.executemany('INSERT INTO pipelines VALUES (?,?,?,?)', pipelines_insert)"
   ]
  },
  {
   "cell_type": "code",
   "execution_count": 55,
   "metadata": {},
   "outputs": [],
   "source": [
    "conn.commit()\n",
    "conn.close()"
   ]
  }
 ],
 "metadata": {
  "kernelspec": {
   "display_name": "Python 3",
   "language": "python",
   "name": "python3"
  },
  "language_info": {
   "codemirror_mode": {
    "name": "ipython",
    "version": 3
   },
   "file_extension": ".py",
   "mimetype": "text/x-python",
   "name": "python",
   "nbconvert_exporter": "python",
   "pygments_lexer": "ipython3",
   "version": "3.6.10"
  }
 },
 "nbformat": 4,
 "nbformat_minor": 4
}
