{
 "cells": [
  {
   "cell_type": "markdown",
   "metadata": {},
   "source": [
    "# Model Development"
   ]
  },
  {
   "cell_type": "markdown",
   "metadata": {},
   "source": [
    "### Objective: create a Classifier to predict Marketing Interaction Outcomes\n",
    "\n",
    "- Train and validate initial model\n",
    "- Create SparkML Pipeline and save it to Object Store"
   ]
  },
  {
   "cell_type": "code",
   "execution_count": 1,
   "metadata": {},
   "outputs": [],
   "source": [
    "import matplotlib as mpl\n",
    "import matplotlib.pyplot as plt\n",
    "import seaborn as sns\n",
    "import numpy as np\n",
    "import pandas as pd"
   ]
  },
  {
   "cell_type": "code",
   "execution_count": 2,
   "metadata": {},
   "outputs": [],
   "source": [
    "%load_ext autoreload\n",
    "%autoreload 2"
   ]
  },
  {
   "cell_type": "code",
   "execution_count": 3,
   "metadata": {},
   "outputs": [
    {
     "name": "stdout",
     "output_type": "stream",
     "text": [
      "Spark Version: 2.4.5.7.2.2.0-244\n"
     ]
    }
   ],
   "source": [
    "import os\n",
    "import sys\n",
    "from pyspark.sql import SparkSession\n",
    "\n",
    "spark = SparkSession\\\n",
    "    .builder\\\n",
    "    .appName(\"ModelDevelopment\")\\\n",
    "    .config(\"spark.authenticate\", \"true\")\\\n",
    "    .config(\"spark.yarn.access.hadoopFileSystems\", os.environ[\"STORAGE\"])\\\n",
    "    .config(\"spark.hadoop.yarn.resourcemanager.principal\",os.environ[\"HADOOP_USER_NAME\"])\\\n",
    "    .config(\"spark.executor.memory\",\"6g\")\\\n",
    "    .config(\"spark.executor.cores\",\"3\")\\\n",
    "    .getOrCreate()\n",
    "\n",
    "#.master(\"local[*]\")\\\n",
    "    \n",
    "# **Note:** \n",
    "# Our file isn't big, so running it in Spark local mode is fine but you can add the following config \n",
    "# if you want to run Spark on the kubernetes cluster \n",
    "# \n",
    "# > .config(\"spark.yarn.access.hadoopFileSystems\",os.getenv['STORAGE'])\\\n",
    "\n",
    "#.config(\"spark.authenticate\", \"true\") \\\n",
    "#    .config(\"spark.yarn.access.hadoopFileSystems\", os.environ['STORAGE'])\n",
    "\n",
    "print(\"Spark Version: {}\".format(spark.version))"
   ]
  },
  {
   "cell_type": "code",
   "execution_count": 4,
   "metadata": {},
   "outputs": [
    {
     "name": "stdout",
     "output_type": "stream",
     "text": [
      "+---------------+--------------------+----------------+--------+------------+--------------------+-------+-------+-------------+---------+---------+-----------+-------+---------------+----------+---------+--------------------+--------------------+\n",
      "|           NAME|      STREET_ADDRESS|            CITY|POSTCODE|PHONE_NUMBER|                 JOB|RECENCY|HISTORY|USED_DISCOUNT|USED_BOGO| ZIP_CODE|IS_REFERRAL|CHANNEL|          OFFER|CONVERSION|    SCORE|            BATCH_ID|           BATCH_TMS|\n",
      "+---------------+--------------------+----------------+--------+------------+--------------------+-------+-------+-------------+---------+---------+-----------+-------+---------------+----------+---------+--------------------+--------------------+\n",
      "|   George Hicks|80552 Washington ...|     North David|   15923|        null|Radiographer, the...|     10|    142|            1|        0|Surburban|          0|  Phone|Buy One Get One|         0|1.0767447|420bb4ec-81cf-11e...|2021-03-10 18:34:...|\n",
      "|   Megan Castro|  530 Sandra Village|       Greenview|   82395|        null|Forest/woodland m...|      6|    329|            1|        1|    Rural|          1|    Web|       No Offer|         0|1.7022533|420bb4ec-81cf-11e...|2021-03-10 18:34:...|\n",
      "| Tyler Williams|     5378 Jones Isle|     Snydermouth|   39434|        null| Geologist, wellsite|      7|    180|            0|        1|Surburban|          1|    Web|Buy One Get One|         0|1.2306087|420bb4ec-81cf-11e...|2021-03-10 18:34:...|\n",
      "|   Jamie Spence|   9225 Gilbert Ford|     Antonioview|   77514|        null|Learning disabili...|      9|    675|            1|        0|    Rural|          1|    Web|       Discount|         0|0.8435825|420bb4ec-81cf-11e...|2021-03-10 18:34:...|\n",
      "|  Brandy Obrien|48212 Hernandez C...|South Trevorside|   96147|        null|  Field seismologist|      2|     45|            1|        0|    Urban|          0|    Web|Buy One Get One|         0|1.0064013|420bb4ec-81cf-11e...|2021-03-10 18:34:...|\n",
      "| Joshua Jackson|8878 Jesus Villag...|      South Noah|   37003|        null|     Event organiser|      6|    134|            0|        1|Surburban|          0|  Phone|Buy One Get One|         1|2.7830002|420bb4ec-81cf-11e...|2021-03-10 18:34:...|\n",
      "|     Megan Odom|077 Richard Gatew...|     West Ashley|    9549|        null|Sound technician,...|      9|    280|            1|        0|Surburban|          1|  Phone|Buy One Get One|         0|1.4295379|420bb4ec-81cf-11e...|2021-03-10 18:34:...|\n",
      "|Kristen Serrano|8570 Higgins Lock...|       Sarahbury|   11590|        null|  Physicist, medical|      9|     46|            0|        1|    Urban|          0|  Phone|Buy One Get One|         0|1.1519685|420bb4ec-81cf-11e...|2021-03-10 18:34:...|\n",
      "|      Todd Webb| 48160 Gregory Trail|     Chavezshire|    7849|        null|      Air cabin crew|      9|    675|            1|        1|    Rural|          1|  Phone|       Discount|         0|1.1761556|420bb4ec-81cf-11e...|2021-03-10 18:34:...|\n",
      "|     Peggy Reed|    265 Daniel Plaza|    Carlachester|   28881|        null|    Therapist, music|     10|     32|            0|        1|    Urban|          1|    Web|Buy One Get One|         0|0.4603504|420bb4ec-81cf-11e...|2021-03-10 18:34:...|\n",
      "+---------------+--------------------+----------------+--------+------------+--------------------+-------+-------+-------------+---------+---------+-----------+-------+---------------+----------+---------+--------------------+--------------------+\n",
      "\n"
     ]
    }
   ],
   "source": [
    "spark.sql(\"SELECT * FROM DEFAULT.CUSTOMER_INTERACTIONS_CICD LIMIT 10\").show()"
   ]
  },
  {
   "cell_type": "code",
   "execution_count": 5,
   "metadata": {},
   "outputs": [],
   "source": [
    "hist_DF = spark.sql(\"SELECT * FROM DEFAULT.CUSTOMER_INTERACTIONS_CICD\")"
   ]
  },
  {
   "cell_type": "code",
   "execution_count": 6,
   "metadata": {},
   "outputs": [
    {
     "data": {
      "text/plain": [
       "[('NAME', 'string'),\n",
       " ('STREET_ADDRESS', 'string'),\n",
       " ('CITY', 'string'),\n",
       " ('POSTCODE', 'int'),\n",
       " ('PHONE_NUMBER', 'int'),\n",
       " ('JOB', 'string'),\n",
       " ('RECENCY', 'int'),\n",
       " ('HISTORY', 'int'),\n",
       " ('USED_DISCOUNT', 'int'),\n",
       " ('USED_BOGO', 'int'),\n",
       " ('ZIP_CODE', 'string'),\n",
       " ('IS_REFERRAL', 'int'),\n",
       " ('CHANNEL', 'string'),\n",
       " ('OFFER', 'string'),\n",
       " ('CONVERSION', 'int'),\n",
       " ('SCORE', 'float'),\n",
       " ('BATCH_ID', 'string'),\n",
       " ('BATCH_TMS', 'timestamp')]"
      ]
     },
     "execution_count": 6,
     "metadata": {},
     "output_type": "execute_result"
    }
   ],
   "source": [
    "hist_DF.dtypes"
   ]
  },
  {
   "cell_type": "code",
   "execution_count": 7,
   "metadata": {},
   "outputs": [],
   "source": [
    "df = hist_DF.select(\"RECENCY\", \"HISTORY\", \"USED_DISCOUNT\", \"USED_BOGO\", \"ZIP_CODE\", \"IS_REFERRAL\", \"CHANNEL\", \"OFFER\", \"SCORE\", \"CONVERSION\")"
   ]
  },
  {
   "cell_type": "code",
   "execution_count": 8,
   "metadata": {},
   "outputs": [],
   "source": [
    "#Renaming target feature as \"LABEL\":\n",
    "df = df.withColumnRenamed(\"CONVERSION\",\"label\")"
   ]
  },
  {
   "cell_type": "code",
   "execution_count": 9,
   "metadata": {},
   "outputs": [],
   "source": [
    "cat_cols = [item[0] for item in df.dtypes if item[1].startswith('string')]\n",
    "num_cols = [item[0] for item in df.dtypes if item[1].startswith('in')]"
   ]
  },
  {
   "cell_type": "code",
   "execution_count": 10,
   "metadata": {},
   "outputs": [],
   "source": [
    "num_cols.remove('label')"
   ]
  },
  {
   "cell_type": "code",
   "execution_count": 11,
   "metadata": {},
   "outputs": [],
   "source": [
    "#df.groupby(\"label\").count().show()"
   ]
  },
  {
   "cell_type": "code",
   "execution_count": 12,
   "metadata": {},
   "outputs": [],
   "source": [
    "train, test = df.randomSplit([0.8, 0.2], seed=1)"
   ]
  },
  {
   "cell_type": "markdown",
   "metadata": {},
   "source": [
    "#### Creating Pipeline\n",
    "##### Notice the pipeline does not include the classifier. This is done on purpose so we can split it into two jobs."
   ]
  },
  {
   "cell_type": "code",
   "execution_count": 13,
   "metadata": {},
   "outputs": [],
   "source": [
    "from pyspark.ml.tuning import ParamGridBuilder, TrainValidationSplit, CrossValidator\n",
    "from pyspark.ml.feature import OneHotEncoderEstimator, StringIndexer, VectorAssembler\n",
    "from pyspark.ml import Pipeline\n",
    "from pyspark.ml.evaluation import BinaryClassificationEvaluator, MulticlassClassificationEvaluator\n",
    "from pyspark.ml.classification import RandomForestClassifier"
   ]
  },
  {
   "cell_type": "code",
   "execution_count": 14,
   "metadata": {},
   "outputs": [],
   "source": [
    "def make_pipeline():        \n",
    "    \n",
    "    stages= []\n",
    "\n",
    "    for col in cat_cols:\n",
    "\n",
    "        stringIndexer = StringIndexer(inputCol = col , outputCol = col + '_StringIndex')\n",
    "        encoder = OneHotEncoderEstimator(inputCols=[stringIndexer.getOutputCol()], outputCols=[col + '_ClassVect'])\n",
    "        stages += [stringIndexer, encoder]\n",
    "\n",
    "    #Assembling mixed data type transformations:\n",
    "    assemblerInputs = [c + \"_ClassVect\" for c in cat_cols] + num_cols\n",
    "    assembler = VectorAssembler(inputCols=assemblerInputs, outputCol=\"features\")\n",
    "\n",
    "    stages += [assembler]\n",
    "\n",
    "    rf = RandomForestClassifier(labelCol = \"label\")\n",
    "    \n",
    "    stages += [rf]\n",
    "    \n",
    "    #Creating and running the pipeline:\n",
    "    pipeline = Pipeline(stages=stages)\n",
    "    \n",
    "    return pipeline"
   ]
  },
  {
   "cell_type": "code",
   "execution_count": 15,
   "metadata": {},
   "outputs": [],
   "source": [
    "pipeline = make_pipeline()"
   ]
  },
  {
   "cell_type": "code",
   "execution_count": 16,
   "metadata": {},
   "outputs": [],
   "source": [
    "paramGrid = ParamGridBuilder() \\\n",
    "    .addGrid(RandomForestClassifier.numTrees, [10, 20, 30]) \\\n",
    "    .addGrid(RandomForestClassifier.maxDepth, [5, 10]) \\\n",
    "    .build()"
   ]
  },
  {
   "cell_type": "code",
   "execution_count": 17,
   "metadata": {},
   "outputs": [],
   "source": [
    "crossval = CrossValidator(estimator=pipeline,\n",
    "                          estimatorParamMaps=paramGrid,\n",
    "                          evaluator=BinaryClassificationEvaluator(metricName=\"areaUnderROC\"),\n",
    "                          numFolds=5)"
   ]
  },
  {
   "cell_type": "code",
   "execution_count": 18,
   "metadata": {},
   "outputs": [],
   "source": [
    "# Run cross-validation, and choose the best set of parameters.\n",
    "cvModel = crossval.fit(train)"
   ]
  },
  {
   "cell_type": "code",
   "execution_count": 19,
   "metadata": {},
   "outputs": [
    {
     "name": "stdout",
     "output_type": "stream",
     "text": [
      "[0.5518819155573436, 0.5518819155573436, 0.5518819155573436, 0.5518819155573436, 0.5518819155573437, 0.5518819155573436]\n"
     ]
    }
   ],
   "source": [
    "print(cvModel.avgMetrics)"
   ]
  },
  {
   "cell_type": "code",
   "execution_count": 20,
   "metadata": {},
   "outputs": [
    {
     "name": "stdout",
     "output_type": "stream",
     "text": [
      "PipelineModel_1fdd5113f062\n"
     ]
    }
   ],
   "source": [
    "bestModel = cvModel.bestModel\n",
    "print(bestModel)"
   ]
  },
  {
   "cell_type": "markdown",
   "metadata": {},
   "source": [
    "#### Test Set Evaluation"
   ]
  },
  {
   "cell_type": "code",
   "execution_count": 21,
   "metadata": {},
   "outputs": [],
   "source": [
    "#Evaluating model with the held out test set:\n",
    "prediction = cvModel.transform(test)"
   ]
  },
  {
   "cell_type": "code",
   "execution_count": 22,
   "metadata": {},
   "outputs": [],
   "source": [
    "predictionAndTarget = prediction.select(\"label\", \"prediction\")"
   ]
  },
  {
   "cell_type": "code",
   "execution_count": 23,
   "metadata": {},
   "outputs": [],
   "source": [
    "# Create both evaluators\n",
    "evaluatorMulti = MulticlassClassificationEvaluator(labelCol=\"label\", predictionCol=\"prediction\")\n",
    "evaluator = BinaryClassificationEvaluator(labelCol=\"label\", rawPredictionCol=\"prediction\", metricName='areaUnderROC')"
   ]
  },
  {
   "cell_type": "code",
   "execution_count": 24,
   "metadata": {},
   "outputs": [],
   "source": [
    "# Get metrics\n",
    "acc = evaluatorMulti.evaluate(predictionAndTarget, {evaluatorMulti.metricName: \"accuracy\"})\n",
    "f1 = evaluatorMulti.evaluate(predictionAndTarget, {evaluatorMulti.metricName: \"f1\"})\n",
    "weightedPrecision = evaluatorMulti.evaluate(predictionAndTarget, {evaluatorMulti.metricName: \"weightedPrecision\"})\n",
    "weightedRecall = evaluatorMulti.evaluate(predictionAndTarget, {evaluatorMulti.metricName: \"weightedRecall\"})\n",
    "auc = evaluator.evaluate(predictionAndTarget)"
   ]
  },
  {
   "cell_type": "code",
   "execution_count": 25,
   "metadata": {},
   "outputs": [],
   "source": [
    "y_true = predictionAndTarget.select(['label']).collect()\n",
    "y_pred = predictionAndTarget.select(['prediction']).collect()"
   ]
  },
  {
   "cell_type": "code",
   "execution_count": 27,
   "metadata": {},
   "outputs": [
    {
     "name": "stdout",
     "output_type": "stream",
     "text": [
      "              precision    recall  f1-score   support\n",
      "\n",
      "           0       0.85      1.00      0.92     10850\n",
      "           1       0.00      0.00      0.00      1876\n",
      "\n",
      "    accuracy                           0.85     12726\n",
      "   macro avg       0.43      0.50      0.46     12726\n",
      "weighted avg       0.73      0.85      0.78     12726\n",
      "\n"
     ]
    },
    {
     "name": "stderr",
     "output_type": "stream",
     "text": [
      "/home/cdsw/.local/lib/python3.6/site-packages/sklearn/metrics/_classification.py:1245: UndefinedMetricWarning: Precision and F-score are ill-defined and being set to 0.0 in labels with no predicted samples. Use `zero_division` parameter to control this behavior.\n",
      "  _warn_prf(average, modifier, msg_start, len(result))\n",
      "/home/cdsw/.local/lib/python3.6/site-packages/sklearn/metrics/_classification.py:1245: UndefinedMetricWarning: Precision and F-score are ill-defined and being set to 0.0 in labels with no predicted samples. Use `zero_division` parameter to control this behavior.\n",
      "  _warn_prf(average, modifier, msg_start, len(result))\n",
      "/home/cdsw/.local/lib/python3.6/site-packages/sklearn/metrics/_classification.py:1245: UndefinedMetricWarning: Precision and F-score are ill-defined and being set to 0.0 in labels with no predicted samples. Use `zero_division` parameter to control this behavior.\n",
      "  _warn_prf(average, modifier, msg_start, len(result))\n"
     ]
    }
   ],
   "source": [
    "from sklearn.metrics import classification_report, confusion_matrix, plot_confusion_matrix, roc_curve\n",
    "cm = confusion_matrix(y_true, y_pred)\n",
    "print(classification_report(y_true, y_pred))"
   ]
  },
  {
   "cell_type": "code",
   "execution_count": 28,
   "metadata": {},
   "outputs": [],
   "source": [
    "from utils.cm import plot_conf_matrix"
   ]
  },
  {
   "cell_type": "code",
   "execution_count": 29,
   "metadata": {},
   "outputs": [
    {
     "data": {
      "image/png": "[encoded data removed]",
      "text/plain": [
       "<Figure size 360x216 with 1 Axes>"
      ]
     },
     "metadata": {
      "needs_background": "light"
     },
     "output_type": "display_data"
    }
   ],
   "source": [
    "plot_conf_matrix(pd.DataFrame(cm.T, columns=['neg', 'pos'], \n",
    "                       index=['pred_neg', 'pred_pos']))"
   ]
  },
  {
   "cell_type": "code",
   "execution_count": 30,
   "metadata": {},
   "outputs": [
    {
     "data": {
      "image/png": "[encoded data removed]",
      "text/plain": [
       "<Figure size 360x360 with 1 Axes>"
      ]
     },
     "metadata": {},
     "output_type": "display_data"
    }
   ],
   "source": [
    "from plot_metric.functions import BinaryClassification\n",
    "# Visualisation with plot_metric\n",
    "bc = BinaryClassification(y_true, y_pred, labels=[\"Class 1\", \"Class 2\"])\n",
    "\n",
    "# Figures\n",
    "plt.figure(figsize=(5,5))\n",
    "bc.plot_roc_curve()\n",
    "plt.show()"
   ]
  },
  {
   "cell_type": "code",
   "execution_count": 31,
   "metadata": {},
   "outputs": [],
   "source": [
    "#Printing metrics \n",
    "#print(acc)\n",
    "#print(f1)\n",
    "#print(weightedPrecision)\n",
    "#print(weightedRecall)\n",
    "#print(auc)"
   ]
  },
  {
   "cell_type": "markdown",
   "metadata": {},
   "source": [
    "#### Saving Pipeline and Logistic Regression Model to Object Store"
   ]
  },
  {
   "cell_type": "code",
   "execution_count": 32,
   "metadata": {},
   "outputs": [],
   "source": [
    "import datetime\n",
    "import os, time"
   ]
  },
  {
   "cell_type": "code",
   "execution_count": 33,
   "metadata": {},
   "outputs": [],
   "source": [
    "run_time_suffix = datetime.datetime.now()\n",
    "run_time_suffix_string = run_time_suffix.strftime(\"%d%m%Y%H%M%S\")"
   ]
  },
  {
   "cell_type": "code",
   "execution_count": 34,
   "metadata": {},
   "outputs": [],
   "source": [
    "bestModel.write().overwrite().save(os.environ[\"STORAGE\"]+\"/testpysparkmodels/\"+\"{}\".format(run_time_suffix_string))\n",
    "pipeline.write().overwrite().save(os.environ[\"STORAGE\"]+\"/testpysparkpipelines/\"+\"{}\".format(run_time_suffix_string))"
   ]
  },
  {
   "cell_type": "code",
   "execution_count": 35,
   "metadata": {},
   "outputs": [],
   "source": [
    "#print(\"s3a://demo-aws-1/datalake/pdefusco/bestLR_{}\".format(run_time_suffix))"
   ]
  },
  {
   "cell_type": "code",
   "execution_count": 36,
   "metadata": {},
   "outputs": [],
   "source": [
    "spark.stop() "
   ]
  },
  {
   "cell_type": "markdown",
   "metadata": {},
   "source": [
    "#### Loading Model and Pipeline Metadata into Sqlite3 table"
   ]
  },
  {
   "cell_type": "code",
   "execution_count": 37,
   "metadata": {},
   "outputs": [
    {
     "name": "stdout",
     "output_type": "stream",
     "text": [
      "/home/cdsw\r\n"
     ]
    }
   ],
   "source": [
    "!pwd"
   ]
  },
  {
   "cell_type": "code",
   "execution_count": 38,
   "metadata": {},
   "outputs": [],
   "source": [
    "import sqlite3\n",
    "conn = sqlite3.connect('models.db')\n",
    "c = conn.cursor()"
   ]
  },
  {
   "cell_type": "code",
   "execution_count": 39,
   "metadata": {},
   "outputs": [
    {
     "data": {
      "text/plain": [
       "pyspark.ml.pipeline.PipelineModel"
      ]
     },
     "execution_count": 39,
     "metadata": {},
     "output_type": "execute_result"
    }
   ],
   "source": [
    "type(bestModel)"
   ]
  },
  {
   "cell_type": "code",
   "execution_count": 40,
   "metadata": {},
   "outputs": [],
   "source": [
    "import re\n",
    "models_insert = [(str(bestModel).split(\"_\")[0], \n",
    "                 str(bestModel).split(\"_\")[1], \n",
    "                 str(run_time_suffix), \n",
    "                 os.environ[\"STORAGE\"]+\"/testpysparkmodels/\"+\"{}\".format(run_time_suffix))\n",
    "                ]"
   ]
  },
  {
   "cell_type": "code",
   "execution_count": 41,
   "metadata": {},
   "outputs": [],
   "source": [
    "pipelines_insert = [(str(pipeline).split(\"_\")[0], \n",
    "                 str(pipeline).split(\"_\")[1], \n",
    "                 str(run_time_suffix), \n",
    "                 os.environ[\"STORAGE\"]+\"/testpysparkpipelines/\"+\"{}\".format(run_time_suffix))\n",
    "                ]"
   ]
  },
  {
   "cell_type": "code",
   "execution_count": 42,
   "metadata": {},
   "outputs": [
    {
     "data": {
      "text/plain": [
       "<sqlite3.Cursor at 0x7f1670c86d50>"
      ]
     },
     "execution_count": 42,
     "metadata": {},
     "output_type": "execute_result"
    }
   ],
   "source": [
    "c.executemany('INSERT INTO pipelines VALUES (?,?,?,?)', pipelines_insert)\n",
    "c.executemany('INSERT INTO models VALUES (?,?,?,?)', models_insert)"
   ]
  },
  {
   "cell_type": "code",
   "execution_count": 43,
   "metadata": {},
   "outputs": [
    {
     "data": {
      "text/plain": [
       "<sqlite3.Cursor at 0x7f1670c86d50>"
      ]
     },
     "execution_count": 43,
     "metadata": {},
     "output_type": "execute_result"
    }
   ],
   "source": [
    "c.executemany('INSERT INTO models VALUES (?,?,?,?)', models_insert)"
   ]
  },
  {
   "cell_type": "code",
   "execution_count": 44,
   "metadata": {},
   "outputs": [],
   "source": [
    "conn.commit()\n",
    "conn.close()"
   ]
  },
  {
   "cell_type": "code",
   "execution_count": 45,
   "metadata": {},
   "outputs": [
    {
     "name": "stdout",
     "output_type": "stream",
     "text": [
      "('Pipeline', 'abbaa81215b2', '2021-03-10 18:45:44.591201', 's3a://demo-aws-2/testpysparkpipelines/2021-03-10 18:45:44.591201')\n",
      "('PipelineModel', '1fdd5113f062', '2021-03-10 18:45:44.591201', 's3a://demo-aws-2/testpysparkmodels/2021-03-10 18:45:44.591201')\n",
      "('PipelineModel', '1fdd5113f062', '2021-03-10 18:45:44.591201', 's3a://demo-aws-2/testpysparkmodels/2021-03-10 18:45:44.591201')\n"
     ]
    }
   ],
   "source": [
    "#Check pipeline was written to sqlite3 successfully\n",
    "conn = sqlite3.connect('models.db')\n",
    "c = conn.cursor()\n",
    "for i in c.execute(\"select * from pipelines\"): print(i)\n",
    "for i in c.execute(\"select * from models\"): print(i)"
   ]
  },
  {
   "cell_type": "code",
   "execution_count": 46,
   "metadata": {},
   "outputs": [
    {
     "name": "stdout",
     "output_type": "stream",
     "text": [
      "('PipelineModel', '1fdd5113f062', '2021-03-10 18:45:44.591201', 's3a://demo-aws-2/testpysparkmodels/2021-03-10 18:45:44.591201')\n",
      "('PipelineModel', '1fdd5113f062', '2021-03-10 18:45:44.591201', 's3a://demo-aws-2/testpysparkmodels/2021-03-10 18:45:44.591201')\n"
     ]
    }
   ],
   "source": [
    "for i in c.execute(\"select * from models\"): print(i)"
   ]
  },
  {
   "cell_type": "code",
   "execution_count": 47,
   "metadata": {},
   "outputs": [],
   "source": [
    "conn.commit()\n",
    "conn.close()"
   ]
  },
  {
   "cell_type": "code",
   "execution_count": null,
   "metadata": {},
   "outputs": [],
   "source": []
  }
 ],
 "metadata": {
  "kernelspec": {
   "display_name": "Python 3",
   "language": "python",
   "name": "python3"
  },
  "language_info": {
   "codemirror_mode": {
    "name": "ipython",
    "version": 3
   },
   "file_extension": ".py",
   "mimetype": "text/x-python",
   "name": "python",
   "nbconvert_exporter": "python",
   "pygments_lexer": "ipython3",
   "version": "3.6.10"
  }
 },
 "nbformat": 4,
 "nbformat_minor": 4
}
