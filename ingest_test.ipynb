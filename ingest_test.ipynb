{
 "cells": [
  {
   "cell_type": "code",
   "execution_count": 1,
   "metadata": {},
   "outputs": [],
   "source": [
    "import pandas as pd\n",
    "import numpy as np\n",
    "import os\n",
    "import random, string\n",
    "\n",
    "from faker import Faker\n",
    "\n",
    "from pyspark.sql import SparkSession"
   ]
  },
  {
   "cell_type": "code",
   "execution_count": 4,
   "metadata": {},
   "outputs": [
    {
     "name": "stdout",
     "output_type": "stream",
     "text": [
      "Collecting arviz\n",
      "  Downloading arviz-0.10.0-py3-none-any.whl (1.5 MB)\n",
      "\u001b[K     |████████████████████████████████| 1.5 MB 13.7 MB/s eta 0:00:01\n",
      "\u001b[?25hCollecting pymc3\n",
      "  Downloading pymc3-3.9.3-py3-none-any.whl (1.9 MB)\n",
      "\u001b[K     |████████████████████████████████| 1.9 MB 116.6 MB/s eta 0:00:01\n",
      "\u001b[?25hRequirement already satisfied: scipy>=0.19 in /usr/local/lib/python3.6/site-packages (from arviz) (1.4.1)\n",
      "Requirement already satisfied: pandas>=0.23 in /usr/local/lib/python3.6/site-packages (from arviz) (0.25.1)\n",
      "Requirement already satisfied: numpy>=1.12 in /usr/local/lib/python3.6/site-packages (from arviz) (1.17.2)\n",
      "Requirement already satisfied: matplotlib>=3.0 in /usr/local/lib/python3.6/site-packages (from arviz) (3.1.2)\n",
      "Collecting netcdf4\n",
      "  Downloading netCDF4-1.5.4-cp36-cp36m-manylinux1_x86_64.whl (4.3 MB)\n",
      "\u001b[K     |████████████████████████████████| 4.3 MB 99.9 MB/s eta 0:00:01\n",
      "\u001b[?25hCollecting xarray>=0.16.1\n",
      "  Downloading xarray-0.16.1-py3-none-any.whl (720 kB)\n",
      "\u001b[K     |████████████████████████████████| 720 kB 99.4 MB/s eta 0:00:01\n",
      "\u001b[?25hRequirement already satisfied: setuptools>=38.4 in /usr/local/lib/python3.6/site-packages (from arviz) (40.6.2)\n",
      "Requirement already satisfied: packaging in /usr/local/lib/python3.6/site-packages (from arviz) (20.4)\n",
      "Collecting dataclasses; python_version < \"3.7\"\n",
      "  Downloading dataclasses-0.7-py3-none-any.whl (18 kB)\n",
      "Collecting patsy>=0.5.1\n",
      "  Downloading patsy-0.5.1-py2.py3-none-any.whl (231 kB)\n",
      "\u001b[K     |████████████████████████████████| 231 kB 111.5 MB/s eta 0:00:01\n",
      "\u001b[?25hCollecting h5py>=2.7.0\n",
      "  Downloading h5py-2.10.0-cp36-cp36m-manylinux1_x86_64.whl (2.9 MB)\n",
      "\u001b[K     |████████████████████████████████| 2.9 MB 78.2 MB/s eta 0:00:01\n",
      "\u001b[?25hCollecting contextvars; python_version < \"3.7\"\n",
      "  Downloading contextvars-2.4.tar.gz (9.6 kB)\n",
      "Collecting typing-extensions>=3.7.4\n",
      "  Downloading typing_extensions-3.7.4.3-py3-none-any.whl (22 kB)\n",
      "Collecting theano>=1.0.5\n",
      "  Downloading Theano-1.0.5.tar.gz (2.8 MB)\n",
      "\u001b[K     |████████████████████████████████| 2.8 MB 87.8 MB/s eta 0:00:01\n",
      "\u001b[?25hCollecting fastprogress>=0.2.0\n",
      "  Downloading fastprogress-1.0.0-py3-none-any.whl (12 kB)\n",
      "Requirement already satisfied: pytz>=2017.2 in /usr/local/lib/python3.6/site-packages (from pandas>=0.23->arviz) (2020.1)\n",
      "Requirement already satisfied: python-dateutil>=2.6.1 in /usr/local/lib/python3.6/site-packages (from pandas>=0.23->arviz) (2.8.1)\n",
      "Requirement already satisfied: cycler>=0.10 in /usr/local/lib/python3.6/site-packages (from matplotlib>=3.0->arviz) (0.10.0)\n",
      "Requirement already satisfied: pyparsing!=2.0.4,!=2.1.2,!=2.1.6,>=2.0.1 in /usr/local/lib/python3.6/site-packages (from matplotlib>=3.0->arviz) (2.4.7)\n",
      "Requirement already satisfied: kiwisolver>=1.0.1 in /usr/local/lib/python3.6/site-packages (from matplotlib>=3.0->arviz) (1.2.0)\n",
      "Collecting cftime\n",
      "  Downloading cftime-1.2.1-cp36-cp36m-manylinux1_x86_64.whl (287 kB)\n",
      "\u001b[K     |████████████████████████████████| 287 kB 106.5 MB/s eta 0:00:01\n",
      "\u001b[?25hRequirement already satisfied: six in /usr/local/lib/python3.6/site-packages (from packaging->arviz) (1.15.0)\n",
      "Collecting immutables>=0.9\n",
      "  Downloading immutables-0.14-cp36-cp36m-manylinux1_x86_64.whl (98 kB)\n",
      "\u001b[K     |████████████████████████████████| 98 kB 691 kB/s s eta 0:00:01\n",
      "\u001b[?25hBuilding wheels for collected packages: contextvars, theano\n",
      "  Building wheel for contextvars (setup.py) ... \u001b[?25ldone\n",
      "\u001b[?25h  Created wheel for contextvars: filename=contextvars-2.4-py3-none-any.whl size=7664 sha256=683e4d4e3e1e34408421bcaf38438958890abe496a82cbb05ef7fbbe2d47cc70\n",
      "  Stored in directory: /home/cdsw/.cache/pip/wheels/41/11/53/911724983aa48deb94792432e14e518447212dd6c5477d49d3\n",
      "  Building wheel for theano (setup.py) ... \u001b[?25ldone\n",
      "\u001b[?25h  Created wheel for theano: filename=Theano-1.0.5-py3-none-any.whl size=2668094 sha256=58dfd1a37e02bb770aca08e0995c922981526111f78bd6acd77e0286495a8474\n",
      "  Stored in directory: /home/cdsw/.cache/pip/wheels/7f/80/57/2970ddd2e4961d84fb0d58196f4965deead046d29e08693e73\n",
      "Successfully built contextvars theano\n",
      "Installing collected packages: cftime, netcdf4, xarray, arviz, dataclasses, patsy, h5py, immutables, contextvars, typing-extensions, theano, fastprogress, pymc3\n",
      "Successfully installed arviz-0.10.0 cftime-1.2.1 contextvars-2.4 dataclasses-0.7 fastprogress-1.0.0 h5py-2.10.0 immutables-0.14 netcdf4-1.5.4 patsy-0.5.1 pymc3-3.9.3 theano-1.0.5 typing-extensions-3.7.4.3 xarray-0.16.1\n",
      "\u001b[33mWARNING: You are using pip version 20.1.1; however, version 20.2.3 is available.\n",
      "You should consider upgrading via the '/usr/local/bin/python3.6 -m pip install --upgrade pip' command.\u001b[0m\n"
     ]
    }
   ],
   "source": [
    "!pip3 install arviz pymc3"
   ]
  },
  {
   "cell_type": "code",
   "execution_count": 7,
   "metadata": {},
   "outputs": [
    {
     "name": "stdout",
     "output_type": "stream",
     "text": [
      "Running on PyMC3 v3.9.3\n"
     ]
    }
   ],
   "source": [
    "import arviz as az\n",
    "import matplotlib.pyplot as plt\n",
    "import numpy as np\n",
    "import pymc3 as pm\n",
    "\n",
    "from scipy.special import expit as logistic\n",
    "\n",
    "RANDOM_SEED = 58\n",
    "\n",
    "print(\"Running on PyMC3 v{}\".format(pm.__version__))"
   ]
  },
  {
   "cell_type": "code",
   "execution_count": 8,
   "metadata": {},
   "outputs": [],
   "source": [
    "az.style.use(\"arviz-darkgrid\")\n",
    "\n",
    "\n",
    "def standardize(series):\n",
    "    \"\"\"Standardize a pandas series\"\"\"\n",
    "    return (series - series.mean()) / series.std()"
   ]
  },
  {
   "cell_type": "code",
   "execution_count": 9,
   "metadata": {},
   "outputs": [
    {
     "ename": "NameError",
     "evalue": "name 'predictor' is not defined",
     "output_type": "error",
     "traceback": [
      "\u001b[0;31m---------------------------------------------------------------------------\u001b[0m",
      "\u001b[0;31mNameError\u001b[0m                                 Traceback (most recent call last)",
      "\u001b[0;32m<ipython-input-9-9715fa097aeb>\u001b[0m in \u001b[0;36m<module>\u001b[0;34m()\u001b[0m\n\u001b[0;32m----> 1\u001b[0;31m \u001b[0mpredictor_scaled\u001b[0m \u001b[0;34m=\u001b[0m \u001b[0mstandardize\u001b[0m\u001b[0;34m(\u001b[0m\u001b[0mpredictor\u001b[0m\u001b[0;34m)\u001b[0m\u001b[0;34m\u001b[0m\u001b[0;34m\u001b[0m\u001b[0m\n\u001b[0m\u001b[1;32m      2\u001b[0m \u001b[0moutcome_scaled\u001b[0m \u001b[0;34m=\u001b[0m \u001b[0mstandardize\u001b[0m\u001b[0;34m(\u001b[0m\u001b[0moutcome\u001b[0m\u001b[0;34m)\u001b[0m\u001b[0;34m\u001b[0m\u001b[0;34m\u001b[0m\u001b[0m\n",
      "\u001b[0;31mNameError\u001b[0m: name 'predictor' is not defined"
     ]
    }
   ],
   "source": [
    "predictor_scaled = standardize(predictor)\n",
    "outcome_scaled = standardize(outcome)"
   ]
  },
  {
   "cell_type": "code",
   "execution_count": null,
   "metadata": {},
   "outputs": [],
   "source": [
    "with pm.Model() as model_1:\n",
    "    a = pm.Normal(\"a\", 0.0, 10.0)\n",
    "    b = pm.Normal(\"b\", 0.0, 10.0)\n",
    "\n",
    "    mu = a + b * predictor_scaled\n",
    "    sd = pm.Exponential(\"sd\", 1.0)\n",
    "\n",
    "    obs = pm.Normal(\"obs\", mu=mu, sigma=sd, observed=outcome_scaled)\n",
    "    prior_checks = pm.sample_prior_predictive(samples=50, random_seed=RANDOM_SEED)"
   ]
  },
  {
   "cell_type": "code",
   "execution_count": 20,
   "metadata": {},
   "outputs": [],
   "source": [
    "df = pd.read_csv('data/marketing_data_original.csv')"
   ]
  },
  {
   "cell_type": "code",
   "execution_count": 21,
   "metadata": {},
   "outputs": [
    {
     "data": {
      "text/plain": [
       "(64000, 9)"
      ]
     },
     "execution_count": 21,
     "metadata": {},
     "output_type": "execute_result"
    }
   ],
   "source": [
    "df.shape"
   ]
  },
  {
   "cell_type": "code",
   "execution_count": 17,
   "metadata": {},
   "outputs": [],
   "source": [
    "df = pd.read_csv('data/campaign_profit.csv')"
   ]
  },
  {
   "cell_type": "code",
   "execution_count": 18,
   "metadata": {},
   "outputs": [
    {
     "data": {
      "text/plain": [
       "(10, 3)"
      ]
     },
     "execution_count": 18,
     "metadata": {},
     "output_type": "execute_result"
    }
   ],
   "source": [
    "df.shape"
   ]
  },
  {
   "cell_type": "code",
   "execution_count": 22,
   "metadata": {},
   "outputs": [],
   "source": [
    "mu, sigma = 1, .4 # mean and standard deviation\n",
    "s = np.random.normal(mu, sigma, 64000)\n",
    "df['score'] = df['conversion']+s"
   ]
  },
  {
   "cell_type": "code",
   "execution_count": 25,
   "metadata": {},
   "outputs": [],
   "source": [
    "df.to_csv('data/df.csv', index=False)"
   ]
  },
  {
   "cell_type": "code",
   "execution_count": 26,
   "metadata": {},
   "outputs": [
    {
     "data": {
      "text/plain": [
       "recency            int64\n",
       "history          float64\n",
       "used_discount      int64\n",
       "used_bogo          int64\n",
       "zip_code          object\n",
       "is_referral        int64\n",
       "channel           object\n",
       "offer             object\n",
       "conversion         int64\n",
       "score            float64\n",
       "dtype: object"
      ]
     },
     "execution_count": 26,
     "metadata": {},
     "output_type": "execute_result"
    }
   ],
   "source": [
    "df.dtypes"
   ]
  },
  {
   "cell_type": "code",
   "execution_count": null,
   "metadata": {},
   "outputs": [],
   "source": []
  }
 ],
 "metadata": {
  "kernelspec": {
   "display_name": "Python 3",
   "language": "python",
   "name": "python3"
  },
  "language_info": {
   "codemirror_mode": {
    "name": "ipython",
    "version": 3
   },
   "file_extension": ".py",
   "mimetype": "text/x-python",
   "name": "python",
   "nbconvert_exporter": "python",
   "pygments_lexer": "ipython3",
   "version": "3.6.10"
  }
 },
 "nbformat": 4,
 "nbformat_minor": 4
}
